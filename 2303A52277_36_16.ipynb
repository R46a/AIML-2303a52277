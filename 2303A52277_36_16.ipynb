{
  "nbformat": 4,
  "nbformat_minor": 0,
  "metadata": {
    "colab": {
      "provenance": [],
      "authorship_tag": "ABX9TyOHj93NqO7uiEUSkGc9Mqo2",
      "include_colab_link": true
    },
    "kernelspec": {
      "name": "python3",
      "display_name": "Python 3"
    },
    "language_info": {
      "name": "python"
    }
  },
  "cells": [
    {
      "cell_type": "markdown",
      "metadata": {
        "id": "view-in-github",
        "colab_type": "text"
      },
      "source": [
        "<a href=\"https://colab.research.google.com/github/R46a/AIML-2303a52277/blob/main/2303A52277_36_16.ipynb\" target=\"_parent\"><img src=\"https://colab.research.google.com/assets/colab-badge.svg\" alt=\"Open In Colab\"/></a>"
      ]
    },
    {
      "cell_type": "markdown",
      "source": [
        "Prediction of Travel destinations using Travel Reviews\n",
        "1. Identify the top 5 travel destinations of the travellers in East Asia.\n",
        "2. Name the category most liked by the travellers\n",
        "3. Identify the max and min counts of the most liked category of travellers\n",
        "4.Predict the count of travellers who liked the religious institutions the most\n",
        "5.Identify the travellers who liked the beaches and picnic spot the most."
      ],
      "metadata": {
        "id": "oD1ju2QXGMb8"
      }
    },
    {
      "cell_type": "code",
      "execution_count": 1,
      "metadata": {
        "id": "isQQNV-mGEOT"
      },
      "outputs": [],
      "source": [
        "import pandas as pd"
      ]
    },
    {
      "cell_type": "code",
      "source": [
        "file_path = \"/content/tripadvisor_review[1].csv\"\n",
        "data = pd.read_csv(file_path)"
      ],
      "metadata": {
        "id": "kDj8op6fGcPD"
      },
      "execution_count": 2,
      "outputs": []
    },
    {
      "cell_type": "markdown",
      "source": [
        "## **QUESTION 1**"
      ],
      "metadata": {
        "id": "Ce0h2QaHIFJ0"
      }
    },
    {
      "cell_type": "code",
      "source": [
        "top_5_destinations = data.iloc[:, 1:].mean().sort_values(ascending=False).head(5)\n",
        "print(\"1. Top 5 Travel Destinations (Categories):\")\n",
        "print(top_5_destinations)\n"
      ],
      "metadata": {
        "colab": {
          "base_uri": "https://localhost:8080/"
        },
        "id": "bm4WvpXBGhCm",
        "outputId": "232ca2f6-351b-45cb-ad97-f0f90446551f"
      },
      "execution_count": 3,
      "outputs": [
        {
          "output_type": "stream",
          "name": "stdout",
          "text": [
            "1. Top 5 Travel Destinations (Categories):\n",
            "Category 7     3.180939\n",
            "Category 8     2.835061\n",
            "Category 10    2.799224\n",
            "Category 6     1.842898\n",
            "Category 9     1.569439\n",
            "dtype: float64\n"
          ]
        }
      ]
    },
    {
      "cell_type": "markdown",
      "source": [
        "**QUESTION 2**"
      ],
      "metadata": {
        "id": "ATxf-09KHB4B"
      }
    },
    {
      "cell_type": "code",
      "source": [
        "most_liked_category = top_5_destinations.idxmax()\n",
        "print(\"\\n2. Most Liked Category:\")\n",
        "print(most_liked_category)\n"
      ],
      "metadata": {
        "colab": {
          "base_uri": "https://localhost:8080/"
        },
        "id": "KiiamPXGGl4h",
        "outputId": "ce070aea-1181-4eba-90ee-29a4250f3216"
      },
      "execution_count": 4,
      "outputs": [
        {
          "output_type": "stream",
          "name": "stdout",
          "text": [
            "\n",
            "2. Most Liked Category:\n",
            "Category 7\n"
          ]
        }
      ]
    },
    {
      "cell_type": "markdown",
      "source": [
        "**QUESTION 3**"
      ],
      "metadata": {
        "id": "uHzJLCJbHFrk"
      }
    },
    {
      "cell_type": "code",
      "source": [
        "most_liked_category_scores = data[most_liked_category]\n",
        "max_count = most_liked_category_scores.max()\n",
        "min_count = most_liked_category_scores.min()\n",
        "print(\"\\n3. Max and Min Counts of the Most Liked Category:\")\n",
        "print(f\"Max Count: {max_count}\")\n",
        "print(f\"Min Count: {min_count}\")"
      ],
      "metadata": {
        "colab": {
          "base_uri": "https://localhost:8080/"
        },
        "id": "xCSb9OpUGp19",
        "outputId": "afee43f9-4647-42e9-a72a-fe2497a8eb0e"
      },
      "execution_count": 5,
      "outputs": [
        {
          "output_type": "stream",
          "name": "stdout",
          "text": [
            "\n",
            "3. Max and Min Counts of the Most Liked Category:\n",
            "Max Count: 3.21\n",
            "Min Count: 3.16\n"
          ]
        }
      ]
    },
    {
      "cell_type": "markdown",
      "source": [
        "**QUESTION 4**"
      ],
      "metadata": {
        "id": "oijdKPiwHJab"
      }
    },
    {
      "cell_type": "code",
      "source": [
        "religious_category = \"Category 5\"\n",
        "religious_institutions_count = (data[religious_category] == data[religious_category].max()).sum()\n",
        "print(\"\\n4. Count of Travelers Who Liked Religious Institutions the Most:\")\n",
        "print(religious_institutions_count)"
      ],
      "metadata": {
        "colab": {
          "base_uri": "https://localhost:8080/"
        },
        "id": "32yj6Ub6GuyX",
        "outputId": "f67fd5ee-2ac7-4d9f-84bf-e994fe4983c8"
      },
      "execution_count": 6,
      "outputs": [
        {
          "output_type": "stream",
          "name": "stdout",
          "text": [
            "\n",
            "4. Count of Travelers Who Liked Religious Institutions the Most:\n",
            "1\n"
          ]
        }
      ]
    },
    {
      "cell_type": "markdown",
      "source": [
        "**QUESTION 5**"
      ],
      "metadata": {
        "id": "Vleg8mOBHMWy"
      }
    },
    {
      "cell_type": "code",
      "source": [
        "beaches_category = \"Category 1\"\n",
        "picnic_category = \"Category 6\"\n",
        "beach_lovers = data[data[beaches_category] == data[beaches_category].max()]\n",
        "picnic_lovers = data[data[picnic_category] == data[picnic_category].max()]\n",
        "print(\"\\n5. Travelers Who Liked Beaches the Most:\")\n",
        "print(beach_lovers)\n",
        "print(\"\\nTravelers Who Liked Picnic Spots the Most:\")\n",
        "print(picnic_lovers)\n"
      ],
      "metadata": {
        "colab": {
          "base_uri": "https://localhost:8080/"
        },
        "id": "xHpYOtZBG2FJ",
        "outputId": "b72d5589-8609-4e32-8e27-f136cd69c75f"
      },
      "execution_count": 7,
      "outputs": [
        {
          "output_type": "stream",
          "name": "stdout",
          "text": [
            "\n",
            "5. Travelers Who Liked Beaches the Most:\n",
            "      User ID  Category 1  Category 2  Category 3  Category 4  Category 5  \\\n",
            "322  User 323        3.22        1.84        0.22        0.53         0.9   \n",
            "\n",
            "     Category 6  Category 7  Category 8  Category 9  Category 10  \n",
            "322        2.46        3.19        2.69        1.57         2.72  \n",
            "\n",
            "Travelers Who Liked Picnic Spots the Most:\n",
            "      User ID  Category 1  Category 2  Category 3  Category 4  Category 5  \\\n",
            "536  User 537        0.74        2.24        2.63        0.72         1.4   \n",
            "\n",
            "     Category 6  Category 7  Category 8  Category 9  Category 10  \n",
            "536        3.76         3.2        2.75        1.63         2.48  \n"
          ]
        }
      ]
    }
  ]
}